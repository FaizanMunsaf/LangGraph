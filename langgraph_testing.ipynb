{
 "cells": [
  {
   "cell_type": "markdown",
   "id": "6697b3db",
   "metadata": {},
   "source": [
    "# Product LookUp Langchain"
   ]
  },
  {
   "cell_type": "code",
   "execution_count": 1,
   "id": "a4252ea0",
   "metadata": {},
   "outputs": [],
   "source": [
    "from langchain.chat_models import ChatOpenAI\n",
    "from langchain.agents import initialize_agent, Tool, AgentType\n",
    "from langchain.agents import AgentExecutor"
   ]
  },
  {
   "cell_type": "code",
   "execution_count": null,
   "id": "6ab3e289",
   "metadata": {},
   "outputs": [],
   "source": [
    "api_key = \"sk-xxxxxxx\""
   ]
  },
  {
   "cell_type": "code",
   "execution_count": 3,
   "id": "857a982d",
   "metadata": {},
   "outputs": [],
   "source": [
    "fake_db = {\n",
    "        \"macbook\": {\n",
    "            \"name\": \"MacBook Air M2\",\n",
    "            \"price\": \"$999\"\n",
    "        },\n",
    "        \"ipad\": {\n",
    "            \"name\": \"iPad Pro 12.9\",\n",
    "            \"price\": \"$1099\"\n",
    "        },\n",
    "        \"iphone\": {\n",
    "            \"name\": \"iPhone 15 Pro\",\n",
    "            \"price\": \"$1199\"\n",
    "        }\n",
    "    }"
   ]
  },
  {
   "cell_type": "code",
   "execution_count": 4,
   "id": "102ae978",
   "metadata": {},
   "outputs": [],
   "source": [
    "# 🧰 Define a simple product lookup tool\n",
    "def product_lookup(product_name: str) -> str:\n",
    "    product = fake_db.get(product_name.lower())\n",
    "    if product:\n",
    "        return f\"{product['name']} - {product['price']}\"\n",
    "    return \"Product not found.\"\n"
   ]
  },
  {
   "cell_type": "code",
   "execution_count": 5,
   "id": "d38ebe35",
   "metadata": {},
   "outputs": [],
   "source": [
    "# 🧰 Wrapping the function as a tool\n",
    "tools = [\n",
    "    Tool(\n",
    "        name=\"Product Lookup\",\n",
    "        func=product_lookup,\n",
    "        description=\"Use this tool to get product details by name.\"\n",
    "    )\n",
    "]"
   ]
  },
  {
   "cell_type": "code",
   "execution_count": 6,
   "id": "becda45a",
   "metadata": {},
   "outputs": [
    {
     "name": "stderr",
     "output_type": "stream",
     "text": [
      "/tmp/ipykernel_9512/1661257993.py:2: LangChainDeprecationWarning: The class `ChatOpenAI` was deprecated in LangChain 0.0.10 and will be removed in 1.0. An updated version of the class exists in the :class:`~langchain-openai package and should be used instead. To use it run `pip install -U :class:`~langchain-openai` and import as `from :class:`~langchain_openai import ChatOpenAI``.\n",
      "  llm = ChatOpenAI(model=\"gpt-3.5-turbo\", temperature=0, openai_api_key=api_key)\n"
     ]
    }
   ],
   "source": [
    "# ⚙️ Set up the GPT-3.5 Model\n",
    "llm = ChatOpenAI(model=\"gpt-3.5-turbo\", temperature=0, openai_api_key=api_key)"
   ]
  },
  {
   "cell_type": "code",
   "execution_count": 9,
   "id": "c71efdb0",
   "metadata": {},
   "outputs": [],
   "source": [
    "# 🧑‍💼 Create and initialize the agent\n",
    "agent = initialize_agent(\n",
    "    tools=tools,\n",
    "    agent_type=AgentType.ZERO_SHOT_REACT_DESCRIPTION,\n",
    "    llm=llm,\n",
    "    verbose=True,\n",
    "    agent_kwargs={\n",
    "        \"system_message\": \"Only share the product price with me\"\n",
    "    }\n",
    ")"
   ]
  },
  {
   "cell_type": "code",
   "execution_count": 10,
   "id": "8a61ce99",
   "metadata": {},
   "outputs": [
    {
     "name": "stdout",
     "output_type": "stream",
     "text": [
      "Agent is ready. Ask about a product (e.g., macbook, ipad, iphone).\n",
      "\n",
      "\n",
      "\u001b[1m> Entering new AgentExecutor chain...\u001b[0m\n",
      "\u001b[32;1m\u001b[1;3mI should use the Product Lookup tool to get details about the iPad.\n",
      "Action: Product Lookup\n",
      "Action Input: \"iPad\"\u001b[0m\n",
      "Observation: \u001b[36;1m\u001b[1;3miPad Pro 12.9 - $1099\u001b[0m\n",
      "Thought:\u001b[32;1m\u001b[1;3mI need to know the price of the iPad Pro 12.9\n",
      "Action: Product Lookup\n",
      "Action Input: \"iPad Pro 12.9\"\u001b[0m\n",
      "Observation: \u001b[36;1m\u001b[1;3mProduct not found.\u001b[0m\n",
      "Thought:\u001b[32;1m\u001b[1;3mI should try searching for a different version of the iPad Pro 12.9.\n",
      "Action: Product Lookup\n",
      "Action Input: \"iPad Pro 12.9 inch\"\u001b[0m\n",
      "Observation: \u001b[36;1m\u001b[1;3mProduct not found.\u001b[0m\n",
      "Thought:\u001b[32;1m\u001b[1;3mI should try searching for a more general term for the iPad Pro 12.9.\n",
      "Action: Product Lookup\n",
      "Action Input: \"iPad Pro\"\u001b[0m\n",
      "Observation: \u001b[36;1m\u001b[1;3mProduct not found.\u001b[0m\n",
      "Thought:\u001b[32;1m\u001b[1;3mIt seems like the specific iPad Pro 12.9 version is not available in the product database. I should consider looking for a different iPad model.\n",
      "Action: Product Lookup\n",
      "Action Input: \"iPad\"\u001b[0m\n",
      "Observation: \u001b[36;1m\u001b[1;3miPad Pro 12.9 - $1099\u001b[0m\n",
      "Thought:\u001b[32;1m\u001b[1;3mI now know the final answer\n",
      "Final Answer: The iPad Pro 12.9 is available for $1099.\u001b[0m\n",
      "\n",
      "\u001b[1m> Finished chain.\u001b[0m\n",
      "Agent: The iPad Pro 12.9 is available for $1099.\n"
     ]
    }
   ],
   "source": [
    "print(\"Agent is ready. Ask about a product (e.g., macbook, ipad, iphone).\")\n",
    "while True:\n",
    "    user_input = input(\"You: \")\n",
    "    if user_input.lower() in {\"exit\", \"quit\"}:\n",
    "        break\n",
    "    response = agent.run(user_input)\n",
    "    print(\"Agent:\", response)\n"
   ]
  },
  {
   "cell_type": "markdown",
   "id": "0e611a87",
   "metadata": {},
   "source": [
    "# Product LookUp LangGraph"
   ]
  },
  {
   "cell_type": "code",
   "execution_count": 11,
   "id": "8f92dcdf",
   "metadata": {},
   "outputs": [],
   "source": [
    "from langgraph.graph import StateGraph, END\n",
    "from langchain.chat_models import ChatOpenAI\n",
    "from langchain.schema.runnable import RunnableLambda"
   ]
  },
  {
   "cell_type": "code",
   "execution_count": 12,
   "id": "0bdfe3a4",
   "metadata": {},
   "outputs": [],
   "source": [
    "fake_db = {\n",
    "    \"macbook\": {\n",
    "        \"name\": \"MacBook Air M2\",\n",
    "        \"price\": \"$999\"\n",
    "    },\n",
    "    \"ipad\": {\n",
    "        \"name\": \"iPad Pro 12.9\",\n",
    "        \"price\": \"$1099\"\n",
    "    },\n",
    "    \"iphone\": {\n",
    "        \"name\": \"iPhone 15 Pro\",\n",
    "        \"price\": \"$1199\"\n",
    "    }\n",
    "}\n"
   ]
  },
  {
   "cell_type": "code",
   "execution_count": 17,
   "id": "d0ff88e5",
   "metadata": {},
   "outputs": [],
   "source": [
    "# ---🔍 Product lookup logic---\n",
    "def lookup_product(state: dict) -> dict:\n",
    "    print(\"States in LookUp Product : \", state)\n",
    "    user_input = state[\"input\"]\n",
    "    print(\"User Input is : \", user_input)\n",
    "    product = fake_db.get(user_input.lower())\n",
    "    print(\"product Input is : \", user_input)\n",
    "    if product:\n",
    "        return {\n",
    "            \"product_info\": f\"{product['name']} - {product['price']}\"\n",
    "        }\n",
    "    return {\n",
    "        \"product_info\": \"Product not found.\"\n",
    "    }"
   ]
  },
  {
   "cell_type": "code",
   "execution_count": null,
   "id": "2a36577a",
   "metadata": {},
   "outputs": [],
   "source": [
    "api_key = \"sk-key\""
   ]
  },
  {
   "cell_type": "code",
   "execution_count": 18,
   "id": "caf6b2ae",
   "metadata": {},
   "outputs": [],
   "source": [
    "# ⚙️ Set up the GPT-3.5 Model\n",
    "llm = ChatOpenAI(model=\"gpt-3.5-turbo\", temperature=0, openai_api_key=api_key)"
   ]
  },
  {
   "cell_type": "code",
   "execution_count": 19,
   "id": "30334594",
   "metadata": {},
   "outputs": [],
   "source": [
    "def respond_with_llm(state: dict) -> dict:\n",
    "    print(\"States in Respond with LLM : \", state)\n",
    "    product_info = state[\"product_info\"]\n",
    "    print(\"Product Input is : \", product_info)\n",
    "    prompt = f\"You are a helpful assistant. Here is the product information: {product_info}\"\n",
    "    response = llm.invoke(prompt)\n",
    "    return {\"output\": response.content}"
   ]
  },
  {
   "cell_type": "code",
   "execution_count": 21,
   "id": "eb527ddc",
   "metadata": {},
   "outputs": [],
   "source": [
    "from typing import TypedDict, Optional\n",
    "\n",
    "class ProductGraphState(TypedDict):\n",
    "    input: str\n",
    "    product_info: Optional[str]\n",
    "    output: Optional[str]\n"
   ]
  },
  {
   "cell_type": "markdown",
   "id": "9c651de6",
   "metadata": {},
   "source": [
    "**🧩 Nodes = Steps**\n",
    "\n",
    "A node is a specific unit of work — it does something.\n",
    "\n",
    "In LangGraph, each node is a function (like product lookup, LLM response, etc.).\n",
    "\n",
    "Nodes take a state (dict) as input and return a new state.\n",
    "\n",
    "***Examples:***\n",
    "\n",
    "lookup_product: Looks up the product in the DB.\n",
    "\n",
    "respond: Uses LLM to respond with product info.\n",
    "\n",
    "clarify: Asks the user for clarification.\n",
    "\n",
    "\n",
    "**🔗 Edges = Connections**\n",
    "\n",
    "An edge defines the path or transition from one node to the next.\n",
    "\n",
    "Think of edges like \"after this step, go to that step.\"\n",
    "\n",
    "You can add conditions to edges to create branches or loops.\n",
    "\n",
    "***Examples:***\n",
    "\n",
    "From lookup_product → respond\n",
    "\n",
    "From respond → END\n",
    "\n",
    "From lookup_product → clarify (if product not found)"
   ]
  },
  {
   "cell_type": "code",
   "execution_count": 22,
   "id": "b149d302",
   "metadata": {},
   "outputs": [],
   "source": [
    "# ---🔧 Create the graph---\n",
    "graph = StateGraph(ProductGraphState)\n",
    "\n",
    "# Nodes\n",
    "graph.add_node(\"lookup_product\", RunnableLambda(lookup_product))\n",
    "graph.add_node(\"respond\", RunnableLambda(respond_with_llm))\n",
    "\n",
    "# Edges\n",
    "graph.set_entry_point(\"lookup_product\")\n",
    "graph.add_edge(\"lookup_product\", \"respond\")\n",
    "graph.add_edge(\"respond\", END)\n",
    "\n",
    "# ---🚀 Compile the graph---\n",
    "app = graph.compile()\n"
   ]
  },
  {
   "cell_type": "code",
   "execution_count": 25,
   "id": "229babaa",
   "metadata": {},
   "outputs": [
    {
     "name": "stdout",
     "output_type": "stream",
     "text": [
      "🔍 Ask about a product (macbook, iphone, or ipad). Type 'exit' to quit.\n",
      "States in LookUp Product :  {'input': 'iphone'}\n",
      "User Input is :  iphone\n",
      "product Input is :  iphone\n",
      "States in Respond with LLM :  {'input': 'iphone', 'product_info': 'iPhone 15 Pro - $1199'}\n",
      "Product Input is :  iPhone 15 Pro - $1199\n",
      "Assistant: Thank you for providing the product information. The iPhone 15 Pro is priced at $1199. If you have any further questions or need assistance, feel free to ask.\n"
     ]
    }
   ],
   "source": [
    "print(\"🔍 Ask about a product (macbook, iphone, or ipad). Type 'exit' to quit.\")\n",
    "while True:\n",
    "    user_input = input(\"You: \")\n",
    "    if user_input.lower() in {\"exit\", \"quit\"}:\n",
    "        break\n",
    "    result = app.invoke({\"input\": user_input})\n",
    "    print(\"Assistant:\", result[\"output\"])\n"
   ]
  },
  {
   "cell_type": "code",
   "execution_count": null,
   "id": "ac998446",
   "metadata": {},
   "outputs": [],
   "source": []
  }
 ],
 "metadata": {
  "kernelspec": {
   "display_name": "venv",
   "language": "python",
   "name": "python3"
  },
  "language_info": {
   "codemirror_mode": {
    "name": "ipython",
    "version": 3
   },
   "file_extension": ".py",
   "mimetype": "text/x-python",
   "name": "python",
   "nbconvert_exporter": "python",
   "pygments_lexer": "ipython3",
   "version": "3.12.7"
  }
 },
 "nbformat": 4,
 "nbformat_minor": 5
}
